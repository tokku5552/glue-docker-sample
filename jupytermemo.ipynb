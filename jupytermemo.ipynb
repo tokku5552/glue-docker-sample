{
 "cells": [
  {
   "cell_type": "markdown",
   "id": "72d8087f-179e-43d6-b976-218de8bb5734",
   "metadata": {},
   "source": [
    "# Jupyterのメモ"
   ]
  },
  {
   "cell_type": "code",
   "execution_count": 12,
   "id": "fbad2abe-b395-4134-b063-014c04519881",
   "metadata": {},
   "outputs": [
    {
     "data": {
      "application/vnd.jupyter.widget-view+json": {
       "model_id": "",
       "version_major": 2,
       "version_minor": 0
      },
      "text/plain": [
       "FloatProgress(value=0.0, bar_style='info', description='Progress:', layout=Layout(height='25px', width='50%'),…"
      ]
     },
     "metadata": {},
     "output_type": "display_data"
    },
    {
     "name": "stdout",
     "output_type": "stream",
     "text": [
      "+---+------+---+\n",
      "|_c0|   _c1|_c2|\n",
      "+---+------+---+\n",
      "| id|  name|age|\n",
      "|  1|yamada| 20|\n",
      "|  2| satou| 21|\n",
      "+---+------+---+"
     ]
    }
   ],
   "source": [
    "import pyspark\n",
    "df = (spark.read.csv('./jupyter_workspace/test.csv'))\n",
    "df.show()"
   ]
  },
  {
   "cell_type": "code",
   "execution_count": null,
   "id": "45e2dca4-bdeb-4577-84f7-dcfa46e32806",
   "metadata": {},
   "outputs": [],
   "source": []
  }
 ],
 "metadata": {
  "kernelspec": {
   "display_name": "PySpark",
   "language": "python",
   "name": "pysparkkernel"
  },
  "language_info": {
   "codemirror_mode": {
    "name": "python",
    "version": 3
   },
   "file_extension": ".py",
   "mimetype": "text/x-python",
   "name": "pyspark",
   "pygments_lexer": "python3"
  }
 },
 "nbformat": 4,
 "nbformat_minor": 5
}
